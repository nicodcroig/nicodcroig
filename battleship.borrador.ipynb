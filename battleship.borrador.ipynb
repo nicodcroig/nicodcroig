{
 "cells": [
  {
   "cell_type": "markdown",
   "metadata": {},
   "source": [
    "## Introducción\n",
    "En este ejercicio vas a crear tu propio juego de **Hundir la flota** en Python. Para el desarrollo del programa necesitarás conocimientos de la librería `numpy`, módulos, bucles, funciones y colecciones de Python. Se recomienda desarrollar el programa en un IDE como Pycharm, Visual Studio Code o Spyder. **Por lo que la entrega deberá constar de uno o varios scripts de Python (archivos .py), los que necesite el alumno**.\n",
    "\n",
    "## ¿Cómo funciona el juego?\n",
    "Vamos a realizar una versión que tiene algunas particularidades respecto al juego original, de manera que sea más sencillo el desarrollo. Veamos cómo funciona:\n",
    "\n",
    "1. Hay dos jugadores: tu y la maquina\n",
    "2. Un **tablero de 10 x 10** posiciones donde irán los barcos.\n",
    "3. Lo primero que se hace es colocar los barcos. Para este juego **los barcos se colocan de manera aleatoria. Ahora bien, puedes empezar colocando los barcos en unas posiciones fijas, que no cambien con cada partida, y después implementarlo aleatoriamente, ya que es más complejo. Los barcos son:**\n",
    "    * 4 barcos de 1 posición de eslora\n",
    "    * 3 barcos de 2 posiciones de eslora\n",
    "    * 2 barcos de 3 posiciones de eslora\n",
    "    * 1 barco de 4 posiciones de eslora\n",
    "\n",
    "4. Tanto tu, como la maquina tenéis un tablero con barcos, y se trata de ir \"disparando\" y hundiendo los del adversario hasta que un jugador se queda sin barcos, y por tanto, pierde.\n",
    "5. Funciona por turnos y empiezas tu.\n",
    "6. En cada turno disparas a una coordenada (X, Y) del tablero adversario. **Si aciertas, te vuelve a tocar**. En caso contrario, le toca a la maquina.\n",
    "7. En los turnos de la maquina, si acierta, también le vuelve a tocar. ¿Dónde dispara la maquina? A un punto aleatorio en tu tablero.\n",
    "8. Si se hunden todos los barcos de un jugador, el juego acaba y gana el otro.\n",
    "9. Por norma del juego no puede haber espacios entre barcos. Ignora esta norma\n",
    "\n",
    "En [esta página](http://es.battleship-game.org/) podrás probarlo online.\n",
    "## Desarrollo\n",
    "Tendrás que desarrollar lo siguiente:\n",
    "1. Necesitarás un conjunto de **constantes**, donde tengas inventariados los barcos del juego, dimensiones y demás variables que no vayan a cambiar.\n",
    "\n",
    "2. Varias funciones que realicen lo siguiente:\n",
    "    * Una función que inicialice el tablero de cada jugador, donde se creen los tableros de 10x10 y se posicionen los barcos. Mucho cuidado si los posicionas aleatoriamente, de no superponer unos sobre otros, de no salirte del tablero y que que los barcos no estén en diagonal.\n",
    "    * Piensa que tendrás que manejar 4 arrays de numpy para los tableros. Cada jugador tendrá un array de numpy con sus barcos y los impactos del otro jugador, y además otro array de numpy solo con los impactos, ya que ese es el tablero que utiliza el otro jugador para realizar sus disparos. Cuando vayas a jugar tendrás que ver tu tablero con tus barcos y el del otro jugador con los impactos que has hecho.\n",
    "    * Necesitas una función de **buscar coordenada**. Cuando hay un disparo de un jugador en ese tablero, tendrás que comprobar si ahi había un barco, o simplemente agua. Acuérdate de marcar en el tablero, tanto si hay un impacto, como si dio agua.\n",
    "\n",
    "\n",
    "3. Una vez ya tienes montado tu tablero, hay que montar el programa:\n",
    "    * El programa no es más que el **típico `while true: `, con una serie de inputs del usuario**. Se está ejecutando constantemente y le pide al usuario coordenadas para comprobar si impacta.\n",
    "    * Cuando arranque el programa, primero pon algún mensaje de bienvenida y las instrucciones del juego.\n",
    "    * A continuación **inicializa los tableros de ambos jugadores** con los barcos. Estas dos primeras acciones solo se ejecutan una vez!! Que es el comienzo del juego.\n",
    "    * Después de eso ya comienza el juego. Básicamente **se irá ejecutando iterativamente en el `while`, y le irá preguntando coordenadas al usuario.**\n",
    "    * Recoges coordenadas, compruebas en el tablero de la maquina si habia barco.\n",
    "        * Hay barco: marca en el tablero de la maquina el impacto y le vuelve a tocar al usuario\n",
    "        * No hay barco: le toca a la maquina. O lo que es lo mismo, escoge una coordenada aleatoria, y comprueba en el tablero del usuario si habia barco.\n",
    "    * **Así hasta que uno de los dos jugadores se quede sin barcos, y termina el juego.**\n",
    "    * Cuando empiece tu turno deberías imprimir por pantalla tu tablero, para ver cuántos impactos te ha hecho la máquina, así como el tablero con los impactos que has hecho tu en el adversario, de manera que te sirva de ayuda para el siguiente disparo.\n",
    "\n",
    "Hay infinidad de maneras para resolver este ejercicio, por lo que siéntete libre de implementarlo de la forma que te resulte más cómoda."
   ]
  },
  {
   "cell_type": "markdown",
   "metadata": {},
   "source": [
    "1. Tablero:\n",
    "   * Vale con el tablero de numpy II? yo creo que si\n",
    "   * En uno hay que marcar los barcos y cómo te hunden y en otro el del contrincante. Realmente son casi iguales 2 a 2. pero en uno se verían los barcos y donde han disparado y en el otro dónde han disparado y si hay barco o no.\n",
    "        \n",
    "2. Barcos:\n",
    "   * Un objeto que llame a una función? El argumento de entrada sería su eslora\n",
    "   * 4 barcos de 1 cuadro\n",
    "   * 3 barcos de 2 cuadros\n",
    "   * 2 barcos de 3 cuadros\n",
    "   * 1 barco de 4 cuadros\n",
    "   * Los barcos no pueden ni salirse del tablero ni apilarse. \n",
    "   * Hay que catarse del numero de vidas de cada barco? o del total (20)\n",
    "3. Disparo:\n",
    "   * Funcion del numpy II.\n",
    "   * El ordena dispara aleatoriamente? supongo\n",
    "   * La maquina se tiene que acordar de dónde ha disparado para no repetirlo. Se pueden ir metiendo los disparos en una lista para que no se repita. El alvaro lo ha hecho con in if y un elese que igual es mejor\n",
    "   * Si se acierta vuelve a tirar. Con un while ahsta que pierda??\n",
    "   * Una función con un input dentro i guess\n",
    "* Al inicio del juego solo se ponen los barcos una vez!!!\n",
    "\n"
   ]
  },
  {
   "cell_type": "code",
   "execution_count": 23,
   "metadata": {},
   "outputs": [],
   "source": [
    "import numpy as np\n",
    "import random\n",
    "#TABLERO\n",
    "tab = np.arange(1, 101).reshape(10,10)\n",
    "tab = np.where(tab, \" \", tab)\n",
    "#Habría que hacer 4 de estos, dos apra ti y dos para la maquína. \n",
    "#Barcos. Pa mi que esto no esta bien. los barcos verticales van demasiado sketchy. demasiado if\n",
    "#Para colocar los barcos\n",
    "def barcos():\n",
    "    esloras = [1,1,1,1,2,2,2,3,3,4]\n",
    "    for eslora in esloras:\n",
    "        x = random.randint(1,2)\n",
    "        if x== 1:\n",
    "            print(barco_vertical(eslora))\n",
    "        if x == 2:\n",
    "            print(barco_horizontal(eslora))\n",
    "#Pra los barcos horizontales\n",
    "def barco_horizontal(eslora):\n",
    "    while True:\n",
    "        x = random.randint(1,10)\n",
    "        if x<=11-eslora:\n",
    "             break\n",
    "    barco_h= np.arange(x, x+eslora)\n",
    "    return (barco_h)\n",
    "#PAra los barcos verticales\n",
    "def barco_vertical(eslora):\n",
    "    while True:\n",
    "\n",
    "        x = random.randint(1,10)\n",
    "        if x<=11-eslora:\n",
    "             break\n",
    "    barco_v = np.arange(x,x+eslora).reshape(eslora,1)\n",
    "    return barco_v\n"
   ]
  },
  {
   "cell_type": "code",
   "execution_count": 24,
   "metadata": {},
   "outputs": [
    {
     "name": "stdout",
     "output_type": "stream",
     "text": [
      "[1]\n",
      "[9]\n",
      "[8]\n",
      "[8]\n",
      "[6 7]\n"
     ]
    },
    {
     "ename": "IndexError",
     "evalue": "index 10 is out of bounds for axis 0 with size 10",
     "output_type": "error",
     "traceback": [
      "\u001b[1;31m---------------------------------------------------------------------------\u001b[0m",
      "\u001b[1;31mIndexError\u001b[0m                                Traceback (most recent call last)",
      "\u001b[1;32m~\\AppData\\Local\\Temp\\ipykernel_8864\\2336170009.py\u001b[0m in \u001b[0;36m<module>\u001b[1;34m\u001b[0m\n\u001b[0;32m     17\u001b[0m     \u001b[0mtab\u001b[0m\u001b[1;33m[\u001b[0m\u001b[0my\u001b[0m\u001b[1;33m]\u001b[0m\u001b[1;33m[\u001b[0m\u001b[0mx\u001b[0m\u001b[1;33m:\u001b[0m\u001b[0mx\u001b[0m\u001b[1;33m+\u001b[0m\u001b[0meslora\u001b[0m\u001b[1;33m]\u001b[0m\u001b[1;33m=\u001b[0m\u001b[1;34m'O'\u001b[0m\u001b[1;33m\u001b[0m\u001b[1;33m\u001b[0m\u001b[0m\n\u001b[0;32m     18\u001b[0m     \u001b[1;32mreturn\u001b[0m \u001b[0mbarco_h\u001b[0m\u001b[1;33m\u001b[0m\u001b[1;33m\u001b[0m\u001b[0m\n\u001b[1;32m---> 19\u001b[1;33m \u001b[0mbarcos_col\u001b[0m\u001b[1;33m(\u001b[0m\u001b[1;33m)\u001b[0m\u001b[1;33m\u001b[0m\u001b[1;33m\u001b[0m\u001b[0m\n\u001b[0m\u001b[0;32m     20\u001b[0m \u001b[0mtab\u001b[0m\u001b[1;33m\u001b[0m\u001b[1;33m\u001b[0m\u001b[0m\n",
      "\u001b[1;32m~\\AppData\\Local\\Temp\\ipykernel_8864\\2336170009.py\u001b[0m in \u001b[0;36mbarcos_col\u001b[1;34m()\u001b[0m\n\u001b[0;32m      7\u001b[0m         \u001b[0mz\u001b[0m \u001b[1;33m=\u001b[0m \u001b[1;36m1\u001b[0m\u001b[1;33m\u001b[0m\u001b[1;33m\u001b[0m\u001b[0m\n\u001b[0;32m      8\u001b[0m         \u001b[1;32mif\u001b[0m \u001b[0mz\u001b[0m\u001b[1;33m==\u001b[0m \u001b[1;36m1\u001b[0m\u001b[1;33m:\u001b[0m\u001b[1;33m\u001b[0m\u001b[1;33m\u001b[0m\u001b[0m\n\u001b[1;32m----> 9\u001b[1;33m             \u001b[0mprint\u001b[0m\u001b[1;33m(\u001b[0m\u001b[0mbarco_horizontal\u001b[0m\u001b[1;33m(\u001b[0m\u001b[0meslora\u001b[0m\u001b[1;33m)\u001b[0m\u001b[1;33m)\u001b[0m\u001b[1;33m\u001b[0m\u001b[1;33m\u001b[0m\u001b[0m\n\u001b[0m\u001b[0;32m     10\u001b[0m \u001b[1;32mdef\u001b[0m \u001b[0mbarco_horizontal\u001b[0m\u001b[1;33m(\u001b[0m\u001b[0meslora\u001b[0m\u001b[1;33m)\u001b[0m\u001b[1;33m:\u001b[0m\u001b[1;33m\u001b[0m\u001b[1;33m\u001b[0m\u001b[0m\n\u001b[0;32m     11\u001b[0m     \u001b[1;32mwhile\u001b[0m \u001b[1;32mTrue\u001b[0m\u001b[1;33m:\u001b[0m\u001b[1;33m\u001b[0m\u001b[1;33m\u001b[0m\u001b[0m\n",
      "\u001b[1;32m~\\AppData\\Local\\Temp\\ipykernel_8864\\2336170009.py\u001b[0m in \u001b[0;36mbarco_horizontal\u001b[1;34m(eslora)\u001b[0m\n\u001b[0;32m     15\u001b[0m     \u001b[0mbarco_h\u001b[0m\u001b[1;33m=\u001b[0m \u001b[0mnp\u001b[0m\u001b[1;33m.\u001b[0m\u001b[0marange\u001b[0m\u001b[1;33m(\u001b[0m\u001b[0mx\u001b[0m\u001b[1;33m,\u001b[0m \u001b[0mx\u001b[0m\u001b[1;33m+\u001b[0m\u001b[0meslora\u001b[0m\u001b[1;33m)\u001b[0m\u001b[1;33m\u001b[0m\u001b[1;33m\u001b[0m\u001b[0m\n\u001b[0;32m     16\u001b[0m     \u001b[0my\u001b[0m \u001b[1;33m=\u001b[0m \u001b[0mrandom\u001b[0m\u001b[1;33m.\u001b[0m\u001b[0mrandint\u001b[0m\u001b[1;33m(\u001b[0m\u001b[1;36m1\u001b[0m\u001b[1;33m,\u001b[0m\u001b[1;36m10\u001b[0m\u001b[1;33m)\u001b[0m\u001b[1;33m\u001b[0m\u001b[1;33m\u001b[0m\u001b[0m\n\u001b[1;32m---> 17\u001b[1;33m     \u001b[0mtab\u001b[0m\u001b[1;33m[\u001b[0m\u001b[0my\u001b[0m\u001b[1;33m]\u001b[0m\u001b[1;33m[\u001b[0m\u001b[0mx\u001b[0m\u001b[1;33m:\u001b[0m\u001b[0mx\u001b[0m\u001b[1;33m+\u001b[0m\u001b[0meslora\u001b[0m\u001b[1;33m]\u001b[0m\u001b[1;33m=\u001b[0m\u001b[1;34m'O'\u001b[0m\u001b[1;33m\u001b[0m\u001b[1;33m\u001b[0m\u001b[0m\n\u001b[0m\u001b[0;32m     18\u001b[0m     \u001b[1;32mreturn\u001b[0m \u001b[0mbarco_h\u001b[0m\u001b[1;33m\u001b[0m\u001b[1;33m\u001b[0m\u001b[0m\n\u001b[0;32m     19\u001b[0m \u001b[0mbarcos_col\u001b[0m\u001b[1;33m(\u001b[0m\u001b[1;33m)\u001b[0m\u001b[1;33m\u001b[0m\u001b[1;33m\u001b[0m\u001b[0m\n",
      "\u001b[1;31mIndexError\u001b[0m: index 10 is out of bounds for axis 0 with size 10"
     ]
    }
   ],
   "source": [
    "tab = np.arange(1, 101).reshape(10,10)\n",
    "tab = np.where(tab, \" \", tab)\n",
    "#Esto es para emter los horizontales en el tablero. PEro habria que mirarlo más\n",
    "def barcos_col():\n",
    "    esloras = [1,1,1,1,2,2,2,3,3,4]\n",
    "    for eslora in esloras:\n",
    "        z = 1\n",
    "        if z== 1:\n",
    "            print(barco_horizontal(eslora))\n",
    "def barco_horizontal(eslora):\n",
    "    while True:\n",
    "        x = random.randint(1,10)\n",
    "        if x<11-eslora:\n",
    "             break\n",
    "    barco_h= np.arange(x, x+eslora)\n",
    "    y = random.randint(1,10)\n",
    "    tab[y][x:x+eslora]='O'\n",
    "    return barco_h\n",
    "barcos_col()\n",
    "tab"
   ]
  },
  {
   "cell_type": "code",
   "execution_count": 30,
   "metadata": {},
   "outputs": [
    {
     "name": "stdout",
     "output_type": "stream",
     "text": [
      "[10]\n",
      "[3]\n",
      "[[5]]\n",
      "[[7]]\n",
      "[[3]\n",
      " [4]]\n",
      "[[7]\n",
      " [8]]\n",
      "[[7]\n",
      " [8]]\n",
      "[2 3 4]\n",
      "[6 7 8]\n",
      "[4 5 6 7]\n"
     ]
    },
    {
     "data": {
      "text/plain": [
       "array([[' ', ' ', ' ', ' ', ' ', ' ', ' ', ' ', ' ', ' '],\n",
       "       [' ', ' ', ' ', ' ', ' ', ' ', ' ', ' ', ' ', ' '],\n",
       "       [' ', ' ', ' ', 'O', ' ', ' ', ' ', ' ', ' ', ' '],\n",
       "       [' ', ' ', ' ', ' ', ' ', ' ', 'O', 'O', 'O', ' '],\n",
       "       [' ', ' ', ' ', ' ', ' ', ' ', 'O', ' ', ' ', ' '],\n",
       "       [' ', ' ', 'O', ' ', ' ', ' ', ' ', ' ', ' ', ' '],\n",
       "       [' ', ' ', 'O', 'O', 'O', 'O', 'O', 'O', ' ', ' '],\n",
       "       [' ', 'O', 'O', ' ', ' ', ' ', ' ', ' ', ' ', 'O'],\n",
       "       [' ', 'O', 'O', ' ', ' ', ' ', ' ', ' ', ' ', ' '],\n",
       "       [' ', ' ', ' ', ' ', ' ', ' ', ' ', ' ', ' ', ' ']], dtype='<U11')"
      ]
     },
     "execution_count": 30,
     "metadata": {},
     "output_type": "execute_result"
    }
   ],
   "source": [
    "tab = np.arange(1, 101).reshape(10,10)\n",
    "tab = np.where(tab, \" \", tab)\n",
    "def colocabarcos_v(x, eslora):\n",
    "    y =random.randint(0,9)\n",
    "    if eslora == 4:\n",
    "        tab[[x],[y]]='O'\n",
    "        tab[[x+1],[y]]='O'\n",
    "        tab[[x+2],[y]]='O'\n",
    "        tab[[x+3],[y]]='O'\n",
    "    elif eslora ==3:\n",
    "        tab[[x],[y]]='O'\n",
    "        tab[[x+1],[y]]='O'\n",
    "        tab[[x+2],[y]]='O'\n",
    "    elif eslora ==2:\n",
    "        tab[[x],[y]]='O'\n",
    "        tab[[x+1],[y]]='O'\n",
    "    elif eslora==1:\n",
    "        tab[[x],[y]]='O'\n",
    "def colocabarcos_h(x,eslora):\n",
    "    y = random.randint(0,9)\n",
    "    tab[y][x:x+eslora]='O'\n",
    "def barcos():\n",
    "    esloras = [1,1,1,1,2,2,2,3,3,4]\n",
    "    for eslora in esloras:\n",
    "        x = random.randint(1,2)\n",
    "        if x== 1:\n",
    "            print(barco_vertical(eslora))\n",
    "        if x == 2:\n",
    "            print(barco_horizontal(eslora))\n",
    "def barco_horizontal(eslora):\n",
    "    while True:\n",
    "        x = random.randint(1,10)\n",
    "        if x<=11-eslora:\n",
    "             break\n",
    "    barco_h= np.arange(x, x+eslora)\n",
    "    colocabarcos_h(x,eslora)\n",
    "    return (barco_h)\n",
    "def barco_vertical(eslora):\n",
    "    while True:\n",
    "\n",
    "        x = random.randint(1,10)\n",
    "        if x<=11-eslora:\n",
    "             break\n",
    "    barco_v = np.arange(x,x+eslora).reshape(eslora,1)\n",
    "    colocabarcos_v(x,eslora)\n",
    "    return barco_v\n",
    "barcos()\n",
    "tab"
   ]
  },
  {
   "cell_type": "code",
   "execution_count": 21,
   "metadata": {},
   "outputs": [
    {
     "name": "stdout",
     "output_type": "stream",
     "text": [
      "None\n",
      "None\n",
      "None\n",
      "None\n",
      "None\n",
      "None\n",
      "None\n",
      "None\n",
      "None\n",
      "None\n"
     ]
    },
    {
     "data": {
      "text/plain": [
       "array([[' ', 'O', ' ', ' ', ' ', ' ', 'O', ' ', ' ', 'O'],\n",
       "       [' ', 'O', ' ', ' ', ' ', ' ', ' ', ' ', ' ', 'O'],\n",
       "       ['O', 'O', 'O', ' ', ' ', ' ', 'O', ' ', ' ', ' '],\n",
       "       ['O', 'O', 'O', ' ', ' ', ' ', 'O', 'O', ' ', ' '],\n",
       "       [' ', ' ', 'O', ' ', ' ', ' ', 'O', 'O', ' ', ' '],\n",
       "       [' ', ' ', ' ', ' ', 'O', ' ', ' ', ' ', ' ', ' '],\n",
       "       [' ', ' ', ' ', ' ', ' ', ' ', ' ', ' ', ' ', 'O'],\n",
       "       [' ', ' ', ' ', ' ', ' ', ' ', ' ', ' ', ' ', ' '],\n",
       "       [' ', ' ', ' ', ' ', ' ', ' ', ' ', ' ', ' ', 'O'],\n",
       "       [' ', ' ', ' ', ' ', ' ', ' ', ' ', ' ', ' ', ' ']], dtype='<U11')"
      ]
     },
     "execution_count": 21,
     "metadata": {},
     "output_type": "execute_result"
    }
   ],
   "source": [
    "tab = np.arange(1, 101).reshape(10,10)\n",
    "tab = np.where(tab, \" \", tab)\n",
    "#Esto es para meter los barcos verticales en el tablero. Habría que meterlo todo en barcos(), aplicarlo a lo del 1/2 y hacer para que no se pisen\n",
    "def barcos():\n",
    "    esloras = [1,1,1,1,2,2,2,3,3,4]\n",
    "    for eslora in esloras:\n",
    "        x = 1 #random.randint(1,2)\n",
    "        if x== 1:\n",
    "            print(barco_vertical(eslora))\n",
    "        if x == 2:\n",
    "            print(barco_horizontal(eslora))\n",
    "def barco_vertical(eslora):\n",
    "    while True:\n",
    "        x = random.randint(0,9)\n",
    "        if x<=11-eslora:\n",
    "             break\n",
    "    barco_v = np.arange(x,x+eslora).reshape(eslora,1)\n",
    "    y =random.randint(0,9)\n",
    "    if eslora == 4:\n",
    "        tab[[x],[y]]='O'\n",
    "        tab[[x+1],[y]]='O'\n",
    "        tab[[x+2],[y]]='O'\n",
    "        tab[[x+3],[y]]='O'\n",
    "    elif eslora ==3:\n",
    "        tab[[x],[y]]='O'\n",
    "        tab[[x+1],[y]]='O'\n",
    "        tab[[x+2],[y]]='O'\n",
    "    elif eslora ==2:\n",
    "        tab[[x],[y]]='O'\n",
    "        tab[[x+1],[y]]='O'\n",
    "    elif eslora==1:\n",
    "        tab[[x],[y]]='O'\n",
    "    return\n",
    "barcos()\n",
    "tab\n",
    "\n",
    "    "
   ]
  },
  {
   "cell_type": "code",
   "execution_count": null,
   "metadata": {},
   "outputs": [],
   "source": []
  }
 ],
 "metadata": {
  "kernelspec": {
   "display_name": "Python 3.7.4 64-bit",
   "language": "python",
   "name": "python3"
  },
  "language_info": {
   "codemirror_mode": {
    "name": "ipython",
    "version": 3
   },
   "file_extension": ".py",
   "mimetype": "text/x-python",
   "name": "python",
   "nbconvert_exporter": "python",
   "pygments_lexer": "ipython3",
   "version": "3.7.4"
  },
  "orig_nbformat": 4,
  "vscode": {
   "interpreter": {
    "hash": "f3e16723a059e16bde9c41b73e885dc35b9910ccf8d310811b3c29f57ea1a3c2"
   }
  }
 },
 "nbformat": 4,
 "nbformat_minor": 2
}
